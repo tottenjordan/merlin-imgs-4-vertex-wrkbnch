{
 "cells": [
  {
   "cell_type": "markdown",
   "id": "fcc26697-b0be-40a4-8f6e-e1e7ccf94402",
   "metadata": {},
   "source": [
    "## create files to submit to Cloud Build"
   ]
  },
  {
   "cell_type": "code",
   "execution_count": 1,
   "id": "89f81535-758b-41c0-8f6c-056b8d3c9c8c",
   "metadata": {},
   "outputs": [
    {
     "name": "stdout",
     "output_type": "stream",
     "text": [
      "PROJECT_ID: hybrid-vertex\n",
      "PROJECT_NUM: 934903580331\n",
      "REGION: us-central1\n"
     ]
    }
   ],
   "source": [
    "GCP_PROJECTS = !gcloud config get-value project\n",
    "PROJECT_ID = GCP_PROJECTS[0]\n",
    "PROJECT_NUM = !gcloud projects list --filter=\"$PROJECT_ID\" --format=\"value(PROJECT_NUMBER)\"\n",
    "PROJECT_NUM = PROJECT_NUM[0]\n",
    "REGION = 'us-central1'\n",
    "\n",
    "print(f\"PROJECT_ID: {PROJECT_ID}\")\n",
    "print(f\"PROJECT_NUM: {PROJECT_NUM}\")\n",
    "print(f\"REGION: {REGION}\")"
   ]
  },
  {
   "cell_type": "markdown",
   "id": "52ecb330-e858-479b-b533-a7957c35303f",
   "metadata": {},
   "source": [
    "### define env variables and paths"
   ]
  },
  {
   "cell_type": "code",
   "execution_count": 21,
   "id": "9219e8d8-fd02-4dd1-b390-7da28e76a364",
   "metadata": {},
   "outputs": [
    {
     "name": "stdout",
     "output_type": "stream",
     "text": [
      "IMAGE_URI: gcr.io/hybrid-vertex/merlin-pytorch-22.12\n"
     ]
    }
   ],
   "source": [
    "VERSION=22.12\n",
    "REPO_NAME=\"workbench\"\n",
    "FRAMEWORK=\"pytorch\"\n",
    "MERLIN_IMAGE_NAME=f\"merlin-{FRAMEWORK}-{VERSION}\"\n",
    "IMAGE_URI = f'gcr.io/{PROJECT_ID}/{MERLIN_IMAGE_NAME}'\n",
    "\n",
    "print(f\"IMAGE_URI: {IMAGE_URI}\")"
   ]
  },
  {
   "cell_type": "markdown",
   "id": "97a27ec8-adc2-42bb-b148-8a672af5f13f",
   "metadata": {},
   "source": [
    "## write container files"
   ]
  },
  {
   "cell_type": "code",
   "execution_count": 7,
   "id": "59257d25-2cc9-43b3-80ad-1566dd04b686",
   "metadata": {},
   "outputs": [],
   "source": [
    "# !pwd"
   ]
  },
  {
   "cell_type": "code",
   "execution_count": 31,
   "id": "fc695473-e761-4975-9c4d-7cb604a6e96f",
   "metadata": {},
   "outputs": [],
   "source": [
    "REPO_DOCKER_PATH_PREFIX = 'src'\n",
    "CONTAINER_SUBDIR = 'merlin_container'\n",
    "\n",
    "# ! rm -rf {REPO_DOCKER_PATH_PREFIX}\n",
    "! mkdir {REPO_DOCKER_PATH_PREFIX}\n",
    "! mkdir {REPO_DOCKER_PATH_PREFIX}/{CONTAINER_SUBDIR}"
   ]
  },
  {
   "cell_type": "code",
   "execution_count": 32,
   "id": "e373fb8d-7c23-493c-9ef4-65894fed6890",
   "metadata": {},
   "outputs": [
    {
     "name": "stdout",
     "output_type": "stream",
     "text": [
      "Writing src/cloudbuild.yaml\n"
     ]
    }
   ],
   "source": [
    "%%writefile {REPO_DOCKER_PATH_PREFIX}/cloudbuild.yaml\n",
    "\n",
    "steps:\n",
    "- name: 'gcr.io/cloud-builders/docker'\n",
    "  args: ['build', '-t', '$_IMAGE_URI', '$_FILE_LOCATION', '-f', '$_FILE_LOCATION/Dockerfile.$_DOCKERNAME']\n",
    "images:\n",
    "- '$_IMAGE_URI'"
   ]
  },
  {
   "cell_type": "code",
   "execution_count": 33,
   "id": "a7c90577-5385-4724-b447-7d118c18c1ee",
   "metadata": {},
   "outputs": [
    {
     "name": "stdout",
     "output_type": "stream",
     "text": [
      "Writing src/merlin_container/jupyter_notebook_config.py\n"
     ]
    }
   ],
   "source": [
    "%%writefile {REPO_DOCKER_PATH_PREFIX}/{CONTAINER_SUBDIR}/jupyter_notebook_config.py\n",
    "c.NotebookApp.ip = '*'\n",
    "c.NotebookApp.token = ''\n",
    "c.NotebookApp.password = ''\n",
    "c.NotebookApp.open_browser = False\n",
    "c.NotebookApp.port = 8080\n",
    "c.NotebookApp.terminado_settings = {'shell_command': ['/bin/bash']}\n",
    "c.NotebookApp.allow_origin_pat = (\n",
    "'(^https://8080-dot-[0-9]+-dot-devshell\\.appspot\\.com$)|'\n",
    "'(^https://colab\\.research\\.google\\.com$)|'\n",
    "'((https?://)?[0-9a-z]+-dot-(?:us|asia|europe|northamerica|southamerica)-?[0-9a-z]+\\.notebooks\\.googleusercontent.com)')\n",
    "c.NotebookApp.allow_remote_access = True\n",
    "c.NotebookApp.disable_check_xsrf = False"
   ]
  },
  {
   "cell_type": "code",
   "execution_count": 34,
   "id": "1c7cd8f7-a79a-4e54-9ac4-2ed78e331eee",
   "metadata": {},
   "outputs": [
    {
     "name": "stdout",
     "output_type": "stream",
     "text": [
      "Writing src/merlin_container/requirements.txt\n"
     ]
    }
   ],
   "source": [
    "%%writefile {REPO_DOCKER_PATH_PREFIX}/{CONTAINER_SUBDIR}/requirements.txt\n",
    "fastapi\n",
    "transformers4rec[pytorch,nvtabular,dataloader]\n",
    "gsutil\n",
    "gcsfs\n",
    "matplotlib\n",
    "google-cloud-aiplatform==1.21.0\n",
    "jupyterlab-git"
   ]
  },
  {
   "cell_type": "code",
   "execution_count": 35,
   "id": "645e72d3-7e0f-42b5-871d-8ec510725556",
   "metadata": {},
   "outputs": [
    {
     "name": "stdout",
     "output_type": "stream",
     "text": [
      "Writing src/Dockerfile.pytorch\n"
     ]
    }
   ],
   "source": [
    "%%writefile {REPO_DOCKER_PATH_PREFIX}/Dockerfile.{FRAMEWORK}\n",
    "FROM nvcr.io/nvidia/merlin/merlin-pytorch:22.12\n",
    "RUN echo \"deb [signed-by=/usr/share/keyrings/cloud.google.gpg] http://packages.cloud.google.com/apt cloud-sdk main\" | tee -a /etc/apt/sources.list.d/google-cloud-sdk.list && curl https://packages.cloud.google.com/apt/doc/apt-key.gpg | apt-key --keyring /usr/share/keyrings/cloud.google.gpg  add - && apt-get update -y && apt-get install google-cloud-sdk -y\n",
    "EXPOSE 8080\n",
    "\n",
    "# copy the dependencies file to the working directory\n",
    "COPY merlin_container/requirements.txt .\n",
    "# install dependencies\n",
    "RUN apt-get install nodejs npm -y\n",
    "RUN pip install -r requirements.txt\n",
    "#RUN mkdir /root/.jupyter\n",
    "             \n",
    "COPY merlin_container/jupyter_notebook_config.py /root/.jupyter\n",
    "\n",
    "ENV pwd=\"\"\n",
    "ENTRYPOINT exec jupyter-lab --ip=0.0.0.0 --port=8080 --no-browser --allow-root --ServerApp.allow_origin=\"*\" --NotebookApp.token=\"$pwd\" --NotebookApp.password=\"$pwd\""
   ]
  },
  {
   "cell_type": "markdown",
   "id": "ae81da4f-39e9-4ddd-8f8e-d09ed7ed2e36",
   "metadata": {},
   "source": [
    "### optionally, include a `.gitignore` file\n",
    "\n",
    "* limits the files submitted to Cloud Build\n",
    "* see [gcloudignore](https://cloud.google.com/sdk/gcloud/reference/topic/gcloudignore) for details"
   ]
  },
  {
   "cell_type": "code",
   "execution_count": 36,
   "id": "6efbf9fd-d09c-47c6-b00c-30a6cb883c42",
   "metadata": {},
   "outputs": [
    {
     "name": "stdout",
     "output_type": "stream",
     "text": [
      "Updated property [gcloudignore/enabled].\n"
     ]
    }
   ],
   "source": [
    "! gcloud config set gcloudignore/enabled true"
   ]
  },
  {
   "cell_type": "code",
   "execution_count": 40,
   "id": "927df502-e4a9-4aee-9c7a-e5c5b295dd34",
   "metadata": {},
   "outputs": [
    {
     "name": "stdout",
     "output_type": "stream",
     "text": [
      "Overwriting .gcloudignore\n"
     ]
    }
   ],
   "source": [
    "%%writefile .gcloudignore\n",
    ".gcloudignore\n",
    "/merlin_container_v2/\n",
    "create-merlin-image.ipynb\n",
    "Dockerfile\n",
    ".git\n",
    ".github\n",
    ".ipynb_checkpoints/*"
   ]
  },
  {
   "cell_type": "code",
   "execution_count": 41,
   "id": "0971f402-b336-4d0f-912e-f0dc1904ccfc",
   "metadata": {},
   "outputs": [
    {
     "name": "stdout",
     "output_type": "stream",
     "text": [
      "README.md\n",
      "src/cloudbuild.yaml\n",
      "src/Dockerfile.pytorch\n",
      "src/merlin_container/requirements.txt\n",
      "src/merlin_container/jupyter_notebook_config.py\n"
     ]
    }
   ],
   "source": [
    "!gcloud meta list-files-for-upload\n",
    "# !ls"
   ]
  },
  {
   "cell_type": "markdown",
   "id": "77c88303-1f5e-4c69-86d1-95a3a6153361",
   "metadata": {},
   "source": [
    "## submit to Cloud Build"
   ]
  },
  {
   "cell_type": "code",
   "execution_count": 42,
   "id": "2a7c7e71-fd8a-4bd0-8dbe-bbf410355dcf",
   "metadata": {},
   "outputs": [
    {
     "name": "stdout",
     "output_type": "stream",
     "text": [
      "MERLIN_IMAGE_NAME : merlin-pytorch-22.12\n",
      "IMAGE_URI: gcr.io/hybrid-vertex/merlin-pytorch-22.12\n",
      "FILE_LOCATION: ./src\n",
      "MACHINE_TYPE: e2-highcpu-32\n"
     ]
    }
   ],
   "source": [
    "FILE_LOCATION = f'./{REPO_DOCKER_PATH_PREFIX}'\n",
    "MACHINE_TYPE ='e2-highcpu-32'\n",
    "\n",
    "print(f\"MERLIN_IMAGE_NAME : {MERLIN_IMAGE_NAME}\")\n",
    "print(f\"IMAGE_URI: {IMAGE_URI}\")\n",
    "print(f\"FILE_LOCATION: {FILE_LOCATION}\")\n",
    "print(f\"MACHINE_TYPE: {MACHINE_TYPE}\")"
   ]
  },
  {
   "cell_type": "code",
   "execution_count": 44,
   "id": "50d901b4-b2f3-4b22-bafb-cf12af4ff8c6",
   "metadata": {
    "tags": []
   },
   "outputs": [],
   "source": [
    "! gcloud builds submit --config $REPO_DOCKER_PATH_PREFIX/cloudbuild.yaml \\\n",
    "    --substitutions _DOCKERNAME=$FRAMEWORK,_IMAGE_URI=$IMAGE_URI,_FILE_LOCATION=$FILE_LOCATION \\\n",
    "    --timeout=2h \\\n",
    "    --machine-type=$MACHINE_TYPE"
   ]
  },
  {
   "cell_type": "markdown",
   "id": "3b314d4f-0f54-4090-9b1f-4795a69a2268",
   "metadata": {},
   "source": [
    "## Creating Vertex Workbench Notebook Instance \n",
    "\n",
    "**Once Cloud Build job complete, follow these instructions to create a Vertex Workbench instance using the Merlin pytorch image**\n",
    "\n",
    "* Go to Vertex Workbench console, select `NEW NOTEBOOK` then `Customize...`\n",
    "* under `ENVIRONMENT` drop-down, select first option `custom container`\n",
    "* A side panel will appear, locate the `IMAGE_URI` \n",
    "* Under `Machine Configuration` choose compute resources. *Note: if attaching a GPU, you must select `Install NVIDIA GPU driver automatically for me` (which will appear as a checkbox under the `GPU type` field\n",
    "> * For an A100-powered instance, select the `a2-highgpu-1g` machine type (GPU type will auto-populate with defualt count=1)\n",
    "* If planning to interact with Vertex Matching Engine from notebook instance (e.g., CRUD ops), the notebook instance must use the same vpc-network as the Matching Engine index endpoints \n"
   ]
  },
  {
   "cell_type": "code",
   "execution_count": null,
   "id": "10df1835-72e8-41bf-b585-11db3d9674f5",
   "metadata": {},
   "outputs": [],
   "source": []
  }
 ],
 "metadata": {
  "environment": {
   "kernel": "python3",
   "name": "tf2-gpu.2-9.m100",
   "type": "gcloud",
   "uri": "gcr.io/deeplearning-platform-release/tf2-gpu.2-9:m100"
  },
  "kernelspec": {
   "display_name": "Python 3",
   "language": "python",
   "name": "python3"
  },
  "language_info": {
   "codemirror_mode": {
    "name": "ipython",
    "version": 3
   },
   "file_extension": ".py",
   "mimetype": "text/x-python",
   "name": "python",
   "nbconvert_exporter": "python",
   "pygments_lexer": "ipython3",
   "version": "3.7.12"
  }
 },
 "nbformat": 4,
 "nbformat_minor": 5
}
